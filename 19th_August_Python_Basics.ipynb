{
 "cells": [
  {
   "cell_type": "markdown",
   "id": "3894465c-d9ca-4cf1-ae27-4f52416db463",
   "metadata": {},
   "source": [
    "### TOPIC: Python Basics Variable\n",
    "### 1. Declare two variables, `x` and `y`, and assign them integer values. Swap thevalues of these variables without using any temporary variable."
   ]
  },
  {
   "cell_type": "code",
   "execution_count": 10,
   "id": "fac7089b-1b5e-4f9f-9057-b90bf3cd76fa",
   "metadata": {},
   "outputs": [
    {
     "name": "stdout",
     "output_type": "stream",
     "text": [
      "Swapped values: x = 20, y = 10\n"
     ]
    }
   ],
   "source": [
    "# Answer\n",
    "\n",
    "x = 10\n",
    "y = 20\n",
    "\n",
    "# Swap values without a temporary variable\n",
    "x = x + y\n",
    "y = x - y\n",
    "x = x - y\n",
    "\n",
    "print(f\"Swapped values: x = {x}, y = {y}\")"
   ]
  },
  {
   "cell_type": "markdown",
   "id": "904ad3f3-5784-4a19-9945-653a1fdd7252",
   "metadata": {},
   "source": [
    "### 2. Create a program that calculates the area of a rectangle. Take the length and width as inputs from the user and store them in variables. Calculate and display the area."
   ]
  },
  {
   "cell_type": "code",
   "execution_count": 18,
   "id": "df66ad1e-9c75-4823-a625-2384ad317891",
   "metadata": {},
   "outputs": [
    {
     "name": "stdin",
     "output_type": "stream",
     "text": [
      "Enter the length of the rectangle:  12\n",
      "Enter the width of the rectangle:  25\n"
     ]
    },
    {
     "name": "stdout",
     "output_type": "stream",
     "text": [
      "The area of the rectangle is: 300.00\n"
     ]
    }
   ],
   "source": [
    "# Answer\n",
    "def main():\n",
    "    # Input from the user\n",
    "    length = float(input(\"Enter the length of the rectangle: \"))\n",
    "    width = float(input(\"Enter the width of the rectangle: \"))\n",
    "\n",
    "    # Calculate the area formula.\n",
    "    area = length * width\n",
    "\n",
    "    # Display the result\n",
    "    print(f\"The area of the rectangle is: {area:.2f}\")\n",
    "\n",
    "if __name__ == \"__main__\":\n",
    "    main()"
   ]
  },
  {
   "cell_type": "code",
   "execution_count": 16,
   "id": "eaee15ba-2ca8-4b92-a665-b1b08c337de4",
   "metadata": {},
   "outputs": [],
   "source": [
    "## We use input() to get the length and width from the user.\n",
    "## The float() function converts the input to floating-point numbers.\n",
    "## The area is calculated by multiplying the length and width.\n",
    "## The result is displayed with two decimal places."
   ]
  },
  {
   "cell_type": "markdown",
   "id": "623bbb6e-1933-4686-8429-52721eb44661",
   "metadata": {},
   "source": [
    "3. Write a Python program that converts temperatures from Celsius to\n",
    "Fahrenheit. Take the temperature in Celsius as input, store it in a variable,\n",
    "convert it to Fahrenheit, and display the result."
   ]
  },
  {
   "cell_type": "code",
   "execution_count": 2,
   "id": "3c5e0049-7ee5-4e16-a37c-508067a3be38",
   "metadata": {},
   "outputs": [
    {
     "name": "stdin",
     "output_type": "stream",
     "text": [
      "Enter the temperature in Celsius:  2.3\n"
     ]
    },
    {
     "name": "stdout",
     "output_type": "stream",
     "text": [
      "2.3°C is equal to 36.1°F\n"
     ]
    }
   ],
   "source": [
    "# Answer\n",
    "celsius = float(input(\"Enter the temperature in Celsius: \"))\n",
    "fahrenheit = (celsius * 1.8) + 32\n",
    "print(f\"{celsius:.1f}°C is equal to {fahrenheit:.1f}°F\")"
   ]
  },
  {
   "cell_type": "markdown",
   "id": "7edbc9ce-03e4-4924-b49c-731f78902cc6",
   "metadata": {},
   "source": [
    "### TOPIC: String Based Questions\n",
    "### 1. Write a Python program that takes a string as input and prints the length of the string."
   ]
  },
  {
   "cell_type": "code",
   "execution_count": 1,
   "id": "d8eb69c4-a8ef-4bfb-9dea-53ac9bf99381",
   "metadata": {},
   "outputs": [
    {
     "name": "stdin",
     "output_type": "stream",
     "text": [
      "Enter a string:  154\n"
     ]
    },
    {
     "name": "stdout",
     "output_type": "stream",
     "text": [
      "The length of the string is 3.\n"
     ]
    }
   ],
   "source": [
    "def main():\n",
    "    user_input = input(\"Enter a string: \")\n",
    "    length = len(user_input)\n",
    "    print(f\"The length of the string is {length}.\")\n",
    "\n",
    "if __name__ == \"__main__\":\n",
    "    main()"
   ]
  },
  {
   "cell_type": "markdown",
   "id": "ed8a0f47-fc1c-4ea2-81bf-05352dfc4ffa",
   "metadata": {},
   "source": [
    "### 2. Create a program that takes a sentence from the user and counts the number \n",
    "of vowels (a, e, i, o, u) in the string."
   ]
  },
  {
   "cell_type": "code",
   "execution_count": 15,
   "id": "1c38a92a-2913-432a-9f1a-6510f3c593ca",
   "metadata": {},
   "outputs": [
    {
     "name": "stdout",
     "output_type": "stream",
     "text": [
      "Number of vowels in the mysentence1: 11\n"
     ]
    }
   ],
   "source": [
    "# Answer 1\n",
    "mysentence1 = \"My Country is india , I love my country \"\n",
    "vowels = \"aeiou\"\n",
    "count = sum(mysentence1.lower().count(vowel) for vowel in vowels)\n",
    "print(f\"Number of vowels in the mysentence1: {count}\")\n",
    "\n"
   ]
  },
  {
   "cell_type": "code",
   "execution_count": 19,
   "id": "79f1d990-71fc-4a87-a91c-0992a0975eb4",
   "metadata": {},
   "outputs": [
    {
     "name": "stdout",
     "output_type": "stream",
     "text": [
      "Number of vowels in the given sentence2: 6\n"
     ]
    }
   ],
   "source": [
    "# Answer 2 \n",
    "sentence2 = \"My Name is pradeep\"\n",
    "count = 0\n",
    "vowels = \"aeiou\"\n",
    "for char in sentence2:\n",
    "    if char.lower() in vowels:\n",
    "        count += 1\n",
    "print(f\"Number of vowels in the given sentence2: {count}\")"
   ]
  },
  {
   "cell_type": "markdown",
   "id": "e1f330de-0daa-498b-bdfc-388b86bd1b92",
   "metadata": {},
   "source": [
    "### 3 Given a string, reverse the order of characters using string slicing and print the reversed string."
   ]
  },
  {
   "cell_type": "code",
   "execution_count": 42,
   "id": "4ab4866c-339f-4f01-b90c-b1a7a0b12ea1",
   "metadata": {},
   "outputs": [
    {
     "name": "stdout",
     "output_type": "stream",
     "text": [
      "Orginal string: My Name is pradeep\n",
      "Reversed string: peedarp si eman ym\n"
     ]
    }
   ],
   "source": [
    "#Answer1 \n",
    "string = \"My Name is pradeep\"\n",
    "reversed_string = string[::-1].lower()\n",
    "print(\"Orginal string:\", string)\n",
    "print(\"Reversed string:\", reversed_string)"
   ]
  },
  {
   "cell_type": "code",
   "execution_count": 52,
   "id": "8f3d022a-0f35-49f4-88d0-04b3db53635d",
   "metadata": {},
   "outputs": [
    {
     "name": "stdout",
     "output_type": "stream",
     "text": [
      "Orginal string: Python Programming\n",
      "Reversed string: gnimmargorP nohtyP\n"
     ]
    }
   ],
   "source": [
    "#Answer2 \n",
    "original_string = \"Python Programming\"\n",
    "reversed_string = ''.join(reversed(original_string))\n",
    "print(\"Orginal string:\", original_string)\n",
    "print(\"Reversed string:\", reversed_string)"
   ]
  },
  {
   "cell_type": "markdown",
   "id": "c2390670-d45e-4c24-b3ce-f1c07800c143",
   "metadata": {},
   "source": [
    "### 4. Write a program that takes a string as input and checks if it is a palindrome.."
   ]
  },
  {
   "cell_type": "markdown",
   "id": "1e26dd15-7b5d-4f16-8fd3-b9b32c8eeea2",
   "metadata": {},
   "source": [
    "### (reads the same forwards and backwards)."
   ]
  },
  {
   "cell_type": "code",
   "execution_count": 92,
   "id": "dbc94fec-1cda-410b-99cd-94f626b9ff83",
   "metadata": {},
   "outputs": [
    {
     "name": "stdout",
     "output_type": "stream",
     "text": [
      "No, it is not a palindrome.\n"
     ]
    }
   ],
   "source": [
    "## Anwer 1 Using Slicing\n",
    "\n",
    "def is_palindrome(s):\n",
    "    return s == s[::-1]\n",
    "\n",
    "input_string = \"XEROX\"\n",
    "if is_palindrome(input_string):\n",
    "    print(\"Yes, it is a palindrome.\")\n",
    "else:\n",
    "    print(\"No, it is not a palindrome.\")"
   ]
  },
  {
   "cell_type": "code",
   "execution_count": 90,
   "id": "e67bac36-34ba-4e76-aae6-eaed652d2ff3",
   "metadata": {},
   "outputs": [
    {
     "name": "stdout",
     "output_type": "stream",
     "text": [
      "Yes, it is a palindrome.\n"
     ]
    }
   ],
   "source": [
    "## Anwer 2 Using the reversed() function and .join()\n",
    "def is_palindrome_reversed(s):\n",
    "    reversed_string = ''.join(reversed(s))\n",
    "    return s == reversed_string\n",
    "\n",
    "input_string = \"level\"\n",
    "if is_palindrome_reversed(input_string):\n",
    "    print(\"Yes, it is a palindrome.\")\n",
    "else:\n",
    "    print(\"No, it is not a palindrome.\")"
   ]
  },
  {
   "cell_type": "code",
   "execution_count": null,
   "id": "46ac37dc-3e3e-479f-b96e-f52ba36bf0b5",
   "metadata": {},
   "outputs": [],
   "source": []
  },
  {
   "cell_type": "code",
   "execution_count": null,
   "id": "db9e90a1-3845-4f33-99ab-259046e2c077",
   "metadata": {},
   "outputs": [],
   "source": []
  },
  {
   "cell_type": "code",
   "execution_count": null,
   "id": "0b984875-275e-44b1-baa4-b17495eac625",
   "metadata": {},
   "outputs": [],
   "source": []
  },
  {
   "cell_type": "markdown",
   "id": "f44ffc8c-6ca9-41dd-b0be-01ffed876450",
   "metadata": {},
   "source": [
    "### 5 Create a program that takes a string as input and removes all the spaces from it. Print the modified string without spaces."
   ]
  },
  {
   "cell_type": "code",
   "execution_count": 73,
   "id": "141bd454-c496-4b8c-a397-b12b18212595",
   "metadata": {},
   "outputs": [
    {
     "name": "stdout",
     "output_type": "stream",
     "text": [
      "Hello, World!\n"
     ]
    }
   ],
   "source": [
    "# strip removes all the spaces which are suffixed or prefixed \n",
    "\n",
    "text = \"   Hello, World!   \"\n",
    "trimmed_text = text.strip()\n",
    "print(trimmed_text)"
   ]
  },
  {
   "cell_type": "code",
   "execution_count": null,
   "id": "b81d7601-42c0-4498-ace8-11a5ff0b68ff",
   "metadata": {},
   "outputs": [],
   "source": []
  },
  {
   "cell_type": "code",
   "execution_count": null,
   "id": "b6f347dd-a97c-46e5-976f-823ff5829681",
   "metadata": {},
   "outputs": [],
   "source": []
  }
 ],
 "metadata": {
  "kernelspec": {
   "display_name": "Python 3 (ipykernel)",
   "language": "python",
   "name": "python3"
  },
  "language_info": {
   "codemirror_mode": {
    "name": "ipython",
    "version": 3
   },
   "file_extension": ".py",
   "mimetype": "text/x-python",
   "name": "python",
   "nbconvert_exporter": "python",
   "pygments_lexer": "ipython3",
   "version": "3.12.4"
  }
 },
 "nbformat": 4,
 "nbformat_minor": 5
}
