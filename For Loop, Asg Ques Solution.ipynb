{
 "cells": [
  {
   "cell_type": "code",
   "execution_count": 10,
   "id": "eb1d79c1-0acb-41ba-8281-4b5cca7a21eb",
   "metadata": {},
   "outputs": [
    {
     "name": "stdout",
     "output_type": "stream",
     "text": [
      "1\n",
      "2\n",
      "3\n",
      "4\n",
      "5\n",
      "6\n",
      "7\n",
      "8\n",
      "9\n",
      "10\n"
     ]
    }
   ],
   "source": [
    "# Write a Python program to print the numbers from 1 to 10 using a `for` loop.\n",
    "for i in range(1,11):\n",
    "    print(i)"
   ]
  },
  {
   "cell_type": "code",
   "execution_count": 14,
   "id": "0d5d8943-b916-43f7-9fc2-25e1eb6c50cf",
   "metadata": {},
   "outputs": [
    {
     "name": "stdout",
     "output_type": "stream",
     "text": [
      "The sum of all numbers in the list is: 15\n"
     ]
    }
   ],
   "source": [
    "# Create a program that calculates the sum of all numbers in a list using a `for` loop.\n",
    "# Variable to store the sum\n",
    "numbers = [1, 2, 3, 4, 5]\n",
    "total_sum = 0\n",
    "\n",
    "# Loop through each number in the list and add it to the total_sum\n",
    "for num in numbers:\n",
    "    total_sum += num\n",
    "\n",
    "# Print the result\n",
    "print(\"The sum of all numbers in the list is:\", total_sum)"
   ]
  },
  {
   "cell_type": "code",
   "execution_count": 22,
   "id": "06f3474c-c787-4d3d-ab56-15aeb320f345",
   "metadata": {},
   "outputs": [
    {
     "name": "stdout",
     "output_type": "stream",
     "text": [
      "!dlroW ,olleH"
     ]
    }
   ],
   "source": [
    "## 3. Write a program to print the characters of a string in reverse order using a `for` loop.\n",
    "input_string = \"Hello, World!\"\n",
    "for char in reversed(input_string):\n",
    "    print(char, end=\"\")"
   ]
  },
  {
   "cell_type": "code",
   "execution_count": 34,
   "id": "124706bf-3ca9-49cd-b333-7f2c138a9f91",
   "metadata": {},
   "outputs": [
    {
     "name": "stdin",
     "output_type": "stream",
     "text": [
      "Please provide the number for which you need factorial:  5\n"
     ]
    },
    {
     "name": "stdout",
     "output_type": "stream",
     "text": [
      "The factorial of 5 is: 120\n"
     ]
    }
   ],
   "source": [
    "## 4 Develop a program that finds the factorial of a given number using a `for` loop.\n",
    "# number\n",
    "num = 5 \n",
    "\n",
    "# Incase we want to get the input form the user use input function remove # for below and check \n",
    "\n",
    "# num = int(input(\"Please provide the number for which you need factorial: \"))\n",
    "\n",
    "# Variable to store the factorial\n",
    "factorial = 1\n",
    "\n",
    "# Loop to calculate the factorial\n",
    "for i in range(1, num + 1):\n",
    "    factorial *= i\n",
    "\n",
    "# Print the result\n",
    "print(f\"The factorial of {num} is: {factorial}\")\n"
   ]
  },
  {
   "cell_type": "code",
   "execution_count": 44,
   "id": "4c5998ef-a742-4956-ad90-ecf9e53c55d6",
   "metadata": {},
   "outputs": [
    {
     "name": "stdout",
     "output_type": "stream",
     "text": [
      "9 x 1 = 9\n",
      "9 x 2 = 18\n",
      "9 x 3 = 27\n",
      "9 x 4 = 36\n",
      "9 x 5 = 45\n",
      "9 x 6 = 54\n",
      "9 x 7 = 63\n",
      "9 x 8 = 72\n",
      "9 x 9 = 81\n",
      "9 x 10 = 90\n"
     ]
    }
   ],
   "source": [
    "## 5 Create a program to print the multiplication table of a given number using a `for` loop.\n",
    "\n",
    "num = 9\n",
    "\n",
    "# Incase we want to get table number from the user please use input function \n",
    "\n",
    "# num = int(input(\"Please provide the number for which you need table: \"))\n",
    "\n",
    "# Loop to print the multiplication table\n",
    "for i in range(1, 11):\n",
    "    print(f\"{num} x {i} = {num * i}\")\n"
   ]
  },
  {
   "cell_type": "code",
   "execution_count": 46,
   "id": "0164aec3-faf7-4509-bf29-d2a02051bf8c",
   "metadata": {},
   "outputs": [
    {
     "name": "stdout",
     "output_type": "stream",
     "text": [
      "Even numbers count: 5\n",
      "Odd numbers count: 5\n"
     ]
    }
   ],
   "source": [
    "## 6 Write a program that counts the number of even and odd numbers in a list using a `for` loop.\n",
    "# Number list\n",
    "numbers = [1, 2, 3, 4, 5, 6, 7, 8, 9, 10]\n",
    "\n",
    "# Variables to store the counts\n",
    "even_count = 0\n",
    "odd_count = 0\n",
    "\n",
    "# Loop through each number in the list\n",
    "for num in numbers:\n",
    "    if num % 2 == 0:\n",
    "        even_count += 1\n",
    "    else:\n",
    "        odd_count += 1\n",
    "\n",
    "# Print the results\n",
    "print(f\"Even numbers count: {even_count}\")\n",
    "print(f\"Odd numbers count: {odd_count}\")\n"
   ]
  },
  {
   "cell_type": "code",
   "execution_count": 54,
   "id": "fa272613-8780-458c-82e8-b20485a8692e",
   "metadata": {},
   "outputs": [
    {
     "name": "stdout",
     "output_type": "stream",
     "text": [
      "The square of 1 is 1\n",
      "The square of 2 is 4\n",
      "The square of 3 is 9\n",
      "The square of 4 is 16\n",
      "The square of 5 is 25\n"
     ]
    }
   ],
   "source": [
    "## 7 Develop a program that prints the squares of numbers from 1 to 5 using a `for` loop.\n",
    "# Loop through each number from 1 to 5\n",
    "for num in range(1, 6):\n",
    "    print(f\"The square of {num} is {num ** 2}\")"
   ]
  },
  {
   "cell_type": "code",
   "execution_count": 56,
   "id": "081188e8-3f5c-4d54-a029-54da5880e226",
   "metadata": {},
   "outputs": [
    {
     "name": "stdout",
     "output_type": "stream",
     "text": [
      "The length of the string is: 13\n"
     ]
    }
   ],
   "source": [
    "## 8 Create a program to find the length of a string without using the `len()` function.\n",
    "\n",
    "# String\n",
    "input_string = \"Hello, World!\"\n",
    "\n",
    "# Variable to store the length\n",
    "length = 0\n",
    "\n",
    "# Loop through each character in the string\n",
    "for char in input_string:\n",
    "    length += 1\n",
    "\n",
    "# Print the result\n",
    "print(f\"The length of the string is: {length}\")\n"
   ]
  },
  {
   "cell_type": "code",
   "execution_count": 61,
   "id": "5122b306-b771-4896-a574-96fb99c2c1e1",
   "metadata": {},
   "outputs": [
    {
     "name": "stdout",
     "output_type": "stream",
     "text": [
      "The average of the numbers in the list is: 30.0\n"
     ]
    }
   ],
   "source": [
    "## 9 Write a program that calculates the average of a list of numbers using a `for` loop.\n",
    "numbers = [10, 20, 30, 40, 50]\n",
    "\n",
    "# Variable to store the sum\n",
    "total_sum = 0\n",
    "\n",
    "# Variable to store the count of numbers\n",
    "count = 0\n",
    "\n",
    "# Loop through each number in the list and add it to the total_sum\n",
    "for num in numbers:\n",
    "    total_sum += num\n",
    "    count += 1\n",
    "\n",
    "# Calculate the average\n",
    "average = total_sum / count\n",
    "\n",
    "# Print the result\n",
    "print(f\"The average of the numbers in the list is: {average}\")\n"
   ]
  },
  {
   "cell_type": "code",
   "execution_count": 67,
   "id": "539cd0e6-164c-4fcd-b4d5-0ecbec0836c9",
   "metadata": {},
   "outputs": [
    {
     "name": "stdout",
     "output_type": "stream",
     "text": [
      "The first 10 Fibonacci numbers are:\n",
      "0\n",
      "1\n",
      "2\n",
      "3\n",
      "4\n",
      "5\n",
      "6\n",
      "7\n",
      "8\n",
      "9\n"
     ]
    }
   ],
   "source": [
    "## 10 Develop a program that prints the first `n` Fibonacci numbers using a `for` loop.\n",
    "# Python program to print the first n Fibonacci numbers\n",
    "\n",
    "# Number of Fibonacci numbers to print\n",
    "n = 10\n",
    "\n",
    "# Initialize the first two Fibonacci numbers\n",
    "a, b = 0, 1\n",
    "\n",
    "# Print the first n Fibonacci numbers\n",
    "print(\"The first\", n, \"Fibonacci numbers are:\")\n",
    "for _ in range(n): # incase we want to get the fibonacci series untill 10 then use a inplace of _ in for loop as for a in range(n)\n",
    "    print(a)\n",
    "    a, b = b, a + b\n"
   ]
  },
  {
   "cell_type": "code",
   "execution_count": 75,
   "id": "da6ccc42-ec4d-4d5f-b2da-6fa30e1c05b2",
   "metadata": {},
   "outputs": [
    {
     "name": "stdout",
     "output_type": "stream",
     "text": [
      "The list contains duplicates.\n"
     ]
    }
   ],
   "source": [
    "## Intermediate Level:\n",
    "\n",
    "## 11. Write a program to check if a given list contains any duplicates using a `for` loop\n",
    "\n",
    "def contains_duplicates(lst):\n",
    "    for i in range(len(lst)):\n",
    "        for j in range(i + 1, len(lst)):\n",
    "            if lst[i] == lst[j]:\n",
    "                return True\n",
    "    return False\n",
    "\n",
    "# Example usage\n",
    "my_list = [1, 2, 3, 4, 5, 1]\n",
    "if contains_duplicates(my_list):\n",
    "    print(\"The list contains duplicates.\")\n",
    "else:\n",
    "    print(\"The list does not contain duplicates.\")\n",
    "\n"
   ]
  },
  {
   "cell_type": "code",
   "execution_count": 117,
   "id": "735e3439-d754-47a4-b4f3-dcce9e3d2bee",
   "metadata": {},
   "outputs": [
    {
     "name": "stdout",
     "output_type": "stream",
     "text": [
      "Not Prime\n",
      "Prime\n",
      "Prime\n",
      "Not Prime\n",
      "Prime\n",
      "Prime\n",
      "Prime\n",
      "Prime\n"
     ]
    },
    {
     "data": {
      "text/plain": [
       "'\\n# 2 Methiod \\ndef is_prime(num):\\n    if num <= 1:\\n        return False\\n    for i in range(2, int(num**0.5) + 1):\\n        if num % i == 0:\\n            return False\\n    return True\\n\\n# Function to print prime numbers in a given range\\ndef print_primes(start, end):\\n    for num in range(start, end + 1):\\n        if is_prime(num):\\n            print(num)\\n\\n# Example u\\nstart = 10\\nend = 50\\nprint(f\"Prime numbers between {start} and {end} are:\")\\nprint_primes(start, end)'"
      ]
     },
     "execution_count": 117,
     "metadata": {},
     "output_type": "execute_result"
    }
   ],
   "source": [
    "## 12.Create a program that prints the prime numbers in a given range using a `for` loop.\n",
    "# numbers\n",
    "\n",
    "\n",
    "# 1 Method \n",
    "num = 10\n",
    "for i in range(2, num):\n",
    "    if num % i ==0:\n",
    "        print(\"Not Prime\")\n",
    "    else:\n",
    "        print(\"Prime\")\n",
    "\"\"\"\n",
    "Method 2\n",
    "def is_prime(num):\n",
    "    if num <= 1:\n",
    "        return False\n",
    "    for i in range(2, int(num**0.5) + 1):\n",
    "        if num % i == 0:\n",
    "            return False\n",
    "    return True\n",
    "\n",
    "# Function to print prime numbers in a given range\n",
    "def print_primes(start, end):\n",
    "    for num in range(start, end + 1):\n",
    "        if is_prime(num):\n",
    "            print(num)\n",
    "\n",
    "# Example u\n",
    "start = 10\n",
    "end = 50\n",
    "print(f\"Prime numbers between {start} and {end} are:\")\n",
    "print_primes(start, end)\"\"\""
   ]
  },
  {
   "cell_type": "code",
   "execution_count": 133,
   "id": "3a7b3be3-0ade-4b78-a563-2c19f1448c50",
   "metadata": {},
   "outputs": [
    {
     "name": "stdin",
     "output_type": "stream",
     "text": [
      "Enter any string:  this is my world \n"
     ]
    },
    {
     "name": "stdout",
     "output_type": "stream",
     "text": [
      "Total vowel count :  3\n"
     ]
    }
   ],
   "source": [
    "## 12.Create a program that prints the prime numbers in a given range using a `for` loop.\n",
    "sentence = input(\"Enter any string: \")\n",
    "sentence = sentence.lower()\n",
    "vowel_count = 0 \n",
    "# Method 1 uncomment to run \n",
    "'''for i in sentence:\n",
    "    if (i == \"a\" or i == \"e\" or  i == \"i\" or i == \"o\" or  i == \"u\"):\n",
    "            vowel_count = vowel_count + 1\n",
    "print(\"Total vowel count : \", vowel_count)'''\n",
    "\n",
    "\n",
    "# Method 2 \n",
    "\n",
    "vowels = \"aeiou\"\n",
    "for i in sentence:\n",
    "    if i in vowels:    \n",
    "        vowel_count = vowel_count + 1\n",
    "print(\"Total vowel count : \", vowel_count)\n"
   ]
  },
  {
   "cell_type": "code",
   "execution_count": 141,
   "id": "bc34c3b7-bff4-470a-9170-5e3c7db0c733",
   "metadata": {},
   "outputs": [
    {
     "name": "stdout",
     "output_type": "stream",
     "text": [
      "The maximum element in the 2D list is: 9\n"
     ]
    },
    {
     "data": {
      "text/plain": [
       "'# Method 2\\n\\ndef find_max_in_2d_list(matrix):\\n    return max(max(row) for row in matrix)\\n\\n# Example usage\\nmatrix = [\\n    [3, 5, 1],\\n    [9, 7, 8],\\n    [4, 6, 2]\\n]\\n\\nmax_element = find_max_in_2d_list(matrix)\\nprint(f\"The maximum element in the 2D list is: {max_element}\")'"
      ]
     },
     "execution_count": 141,
     "metadata": {},
     "output_type": "execute_result"
    }
   ],
   "source": [
    "## 13 Write a program to find the maximum element in a 2D list using a nested `for` loop.\n",
    "# Method 1\n",
    "\n",
    "def find_max_in_2d_list(matrix):\n",
    "    max_element = float('-inf')  # Initialize to negative infinity\n",
    "    for row in matrix:\n",
    "        for element in row:\n",
    "            if element > max_element:\n",
    "                max_element = element\n",
    "    return max_element\n",
    "\n",
    "# Example usage\n",
    "matrix = [\n",
    "    [3, 5, 1],\n",
    "    [9, 7, 8],\n",
    "    [4, 6, 2]\n",
    "]\n",
    "\n",
    "max_element = find_max_in_2d_list(matrix)\n",
    "print(f\"The maximum element in the 2D list is: {max_element}\")\n",
    "\n",
    "'''# Method 2\n",
    "\n",
    "def find_max_in_2d_list(matrix):\n",
    "    return max(max(row) for row in matrix)\n",
    "\n",
    "# Example usage\n",
    "matrix = [\n",
    "    [3, 5, 1],\n",
    "    [9, 7, 8],\n",
    "    [4, 6, 2]\n",
    "]\n",
    "\n",
    "max_element = find_max_in_2d_list(matrix)\n",
    "print(f\"The maximum element in the 2D list is: {max_element}\")'''\n",
    "\n"
   ]
  },
  {
   "cell_type": "code",
   "execution_count": 2,
   "id": "371c06b8-b58e-49fb-bc1d-add7c749f569",
   "metadata": {},
   "outputs": [
    {
     "name": "stdout",
     "output_type": "stream",
     "text": [
      "The maximum element is: 9\n"
     ]
    }
   ],
   "source": [
    "# 14 .Write a program to find the maximum element in a 2D list using a nested `for` loop.\n",
    "\n",
    "def find_max_element(matrix):\n",
    "    # Initialize max_element to the smallest possible value\n",
    "    max_element = matrix[0][0]\n",
    "    \n",
    "    # Iterate through each row in the 2D list\n",
    "    for row in matrix:\n",
    "        # Iterate through each element in the current row\n",
    "        for element in row:\n",
    "            # Update max_element if a larger element is found\n",
    "            if element > max_element:\n",
    "                max_element = element\n",
    "    \n",
    "    return max_element\n",
    "\n",
    "# Example usage:\n",
    "matrix = [\n",
    "    [1, 2, 3],\n",
    "    [4, 5, 6],\n",
    "    [7, 8, 9]\n",
    "]\n",
    "\n",
    "max_value = find_max_element(matrix)\n",
    "print(\"The maximum element is:\", max_value)\n"
   ]
  },
  {
   "cell_type": "code",
   "execution_count": 6,
   "id": "f736963d-7bb2-4ee5-a496-637e9ad71fa7",
   "metadata": {},
   "outputs": [
    {
     "name": "stdout",
     "output_type": "stream",
     "text": [
      "List after removal: [1, 3, 4, 5]\n"
     ]
    }
   ],
   "source": [
    "# 15 Create a program that removes all occurrences of a specific element from a list using a `for` loop.\n",
    "def remove_occurrences(lst, element):\n",
    "    # Create a new list to store elements that are not the one to be removed\n",
    "    new_lst = []\n",
    "    \n",
    "    # Iterate through the original list\n",
    "    for item in lst:\n",
    "        if item != element:\n",
    "            new_lst.append(item)  # Add item to new list if it's not the element to remove\n",
    "    \n",
    "    return new_lst\n",
    "\n",
    "# Example usage:\n",
    "my_list = [1, 2, 3, 2, 4, 2, 5]\n",
    "element_to_remove = 2\n",
    "\n",
    "result = remove_occurrences(my_list, element_to_remove)\n",
    "print(\"List after removal:\", result)\n",
    "\n",
    "\n"
   ]
  },
  {
   "cell_type": "code",
   "execution_count": 8,
   "id": "41cff1ee-05d4-4969-900b-19506240ebba",
   "metadata": {},
   "outputs": [
    {
     "name": "stdout",
     "output_type": "stream",
     "text": [
      "1 x 1 = 1\t1 x 2 = 2\t1 x 3 = 3\t1 x 4 = 4\t1 x 5 = 5\t\n",
      "2 x 1 = 2\t2 x 2 = 4\t2 x 3 = 6\t2 x 4 = 8\t2 x 5 = 10\t\n",
      "3 x 1 = 3\t3 x 2 = 6\t3 x 3 = 9\t3 x 4 = 12\t3 x 5 = 15\t\n",
      "4 x 1 = 4\t4 x 2 = 8\t4 x 3 = 12\t4 x 4 = 16\t4 x 5 = 20\t\n",
      "5 x 1 = 5\t5 x 2 = 10\t5 x 3 = 15\t5 x 4 = 20\t5 x 5 = 25\t\n"
     ]
    }
   ],
   "source": [
    "\n",
    "## 16. Develop a program that generates a multiplication table for numbers from 1 to 5 using a nested `for` loop\n",
    "\n",
    "def multiplication_table():\n",
    "    # Iterate over numbers from 1 to 5 (outer loop)\n",
    "    for i in range(1, 6):\n",
    "        # Iterate over numbers from 1 to 5 (inner loop)\n",
    "        for j in range(1, 6):\n",
    "            # Print the product of i and j\n",
    "            print(f\"{i} x {j} = {i * j}\", end=\"\\t\")\n",
    "        print()  # New line after each row\n",
    "\n",
    "# Example usage:\n",
    "multiplication_table()\n"
   ]
  },
  {
   "cell_type": "code",
   "execution_count": 10,
   "id": "30b1694d-7abc-4833-8fb0-b62a8e55c232",
   "metadata": {},
   "outputs": [
    {
     "name": "stdout",
     "output_type": "stream",
     "text": [
      "Celsius Temperatures: [0.0, 7.222222222222222, 10.0, 20.0, 25.0, 37.77777777777778]\n"
     ]
    }
   ],
   "source": [
    "## 17. Convert a list of Fahrenheit temperatures to Celsius using a for loop\n",
    "\n",
    "def fahrenheit_to_celsius(fahrenheit_list):\n",
    "    # Create a new list to store the Celsius values\n",
    "    celsius_list = []\n",
    "    \n",
    "    # Iterate through the Fahrenheit temperatures\n",
    "    for fahrenheit in fahrenheit_list:\n",
    "        # Convert to Celsius using the formula: (F - 32) * 5/9\n",
    "        celsius = (fahrenheit - 32) * 5/9\n",
    "        celsius_list.append(celsius)\n",
    "    \n",
    "    return celsius_list\n",
    "\n",
    "# Example usage:\n",
    "fahrenheit_temperatures = [32, 45, 50, 68, 77, 100]\n",
    "celsius_temperatures = fahrenheit_to_celsius(fahrenheit_temperatures)\n",
    "print(\"Celsius Temperatures:\", celsius_temperatures)\n"
   ]
  },
  {
   "cell_type": "code",
   "execution_count": 12,
   "id": "589a8f9a-2008-4d22-8c94-107a989b98d3",
   "metadata": {},
   "outputs": [
    {
     "name": "stdout",
     "output_type": "stream",
     "text": [
      "Common Elements:\n",
      "3\n",
      "4\n",
      "5\n"
     ]
    }
   ],
   "source": [
    "## 18. Print the common elements from two lists using a for loop\n",
    "\n",
    "def common_elements(list1, list2):\n",
    "    # Iterate through elements in list1\n",
    "    for element in list1:\n",
    "        # If the element is also in list2, print it\n",
    "        if element in list2:\n",
    "            print(element)\n",
    "\n",
    "# Example usage:\n",
    "list1 = [1, 2, 3, 4, 5]\n",
    "list2 = [3, 4, 5, 6, 7]\n",
    "print(\"Common Elements:\")\n",
    "common_elements(list1, list2)\n"
   ]
  },
  {
   "cell_type": "code",
   "execution_count": 14,
   "id": "880e907e-1b65-40a5-8122-ceb93f1de6f7",
   "metadata": {},
   "outputs": [
    {
     "name": "stdout",
     "output_type": "stream",
     "text": [
      "*\n",
      "**\n",
      "***\n",
      "****\n",
      "*****\n"
     ]
    }
   ],
   "source": [
    "### 19. Print a pattern of right-angled triangles using a for loop\n",
    "\n",
    "def right_angled_triangle(rows):\n",
    "    # Outer loop for each row\n",
    "    for i in range(1, rows + 1):\n",
    "        # Print '*' characters for the current row\n",
    "        for j in range(i):\n",
    "            print('*', end='')  # Print '*' without newline\n",
    "        print()  # New line after each row\n",
    "\n",
    "# Example usage:\n",
    "right_angled_triangle(5)\n"
   ]
  },
  {
   "cell_type": "code",
   "execution_count": 16,
   "id": "1c5972b4-d5f2-4287-9fca-5dafbced9180",
   "metadata": {},
   "outputs": [
    {
     "name": "stdout",
     "output_type": "stream",
     "text": [
      "The GCD of 56 and 98 is: 14\n"
     ]
    }
   ],
   "source": [
    "## 20. Find the greatest common divisor (GCD) of two numbers using a for loop\n",
    "\n",
    "def find_gcd(a, b):\n",
    "    # Initialize the GCD to 1 (since 1 is always a divisor of any number)\n",
    "    gcd = 1\n",
    "    \n",
    "    # Iterate from 1 to the minimum of a and b\n",
    "    for i in range(1, min(a, b) + 1):\n",
    "        # If i divides both a and b, it's a common divisor\n",
    "        if a % i == 0 and b % i == 0:\n",
    "            gcd = i  # Update the GCD to the current value of i\n",
    "    \n",
    "    return gcd\n",
    "\n",
    "# Example usage:\n",
    "num1 = 56\n",
    "num2 = 98\n",
    "gcd_value = find_gcd(num1, num2)\n",
    "print(f\"The GCD of {num1} and {num2} is: {gcd_value}\")\n"
   ]
  },
  {
   "cell_type": "code",
   "execution_count": 20,
   "id": "dcca6b24-a60e-43c6-b0db-2222eadc19e3",
   "metadata": {},
   "outputs": [
    {
     "name": "stdout",
     "output_type": "stream",
     "text": [
      "[6, 15, 24]\n"
     ]
    }
   ],
   "source": [
    "## 21. Calculate the sum of the digits of numbers in a list using a list comprehension\n",
    "\n",
    "def sum_of_digits(numbers):\n",
    "    return [sum(int(digit) for digit in str(num)) for num in numbers]\n",
    "\n",
    "# Example usage:\n",
    "numbers = [123, 456, 789]\n",
    "digit_sums = sum_of_digits(numbers)\n",
    "print(digit_sums)\n"
   ]
  },
  {
   "cell_type": "code",
   "execution_count": 22,
   "id": "10435c94-60cf-489f-9197-a7f62d5289d1",
   "metadata": {},
   "outputs": [
    {
     "name": "stdout",
     "output_type": "stream",
     "text": [
      "[2, 7]\n"
     ]
    }
   ],
   "source": [
    "## 22. Find the prime factors of a given number using a for loop and list comprehension\n",
    "\n",
    "def prime_factors(n):\n",
    "    factors = [i for i in range(2, n+1) if n % i == 0 and all(i % j != 0 for j in range(2, int(i**0.5) + 1))]\n",
    "    return factors\n",
    "\n",
    "# Example usage:\n",
    "number = 56\n",
    "factors = prime_factors(number)\n",
    "print(factors)\n"
   ]
  },
  {
   "cell_type": "code",
   "execution_count": 26,
   "id": "f3ff366f-d419-420d-96fe-d496645d8f72",
   "metadata": {},
   "outputs": [
    {
     "name": "stdout",
     "output_type": "stream",
     "text": [
      "[1, 2, 3, 4, 5]\n"
     ]
    }
   ],
   "source": [
    "## 23. Extract unique elements from a list and store them in a new list using a list comprehension\n",
    "\n",
    "def unique_elements(lst):\n",
    "    return [item for idx, item in enumerate(lst) if item not in lst[:idx]]\n",
    "\n",
    "# Example usage:\n",
    "my_list = [1, 2, 2, 3, 4, 4, 5]\n",
    "unique_list = unique_elements(my_list)\n",
    "print(unique_list)\n"
   ]
  },
  {
   "cell_type": "code",
   "execution_count": 28,
   "id": "1c42f1cc-43df-437e-a1a5-72673d1e4afd",
   "metadata": {},
   "outputs": [
    {
     "name": "stdout",
     "output_type": "stream",
     "text": [
      "[0, 1, 2, 3, 4, 5, 6, 7, 8, 9, 11, 22, 33, 44, 55, 66, 77, 88, 99]\n"
     ]
    }
   ],
   "source": [
    "## 24. Generate a list of all palindromic numbers up to a specified limit using a list comprehension\n",
    "\n",
    "def palindromic_numbers(limit):\n",
    "    return [num for num in range(limit + 1) if str(num) == str(num)[::-1]]\n",
    "\n",
    "# Example usage:\n",
    "limit = 100\n",
    "palindromes = palindromic_numbers(limit)\n",
    "print(palindromes)\n"
   ]
  },
  {
   "cell_type": "code",
   "execution_count": 49,
   "id": "2aa1c45a-250d-444b-8e05-adfad86f5ef4",
   "metadata": {},
   "outputs": [
    {
     "name": "stdout",
     "output_type": "stream",
     "text": [
      "[1, 2, 3, 4, 5, 6]\n"
     ]
    }
   ],
   "source": [
    "### 25. Flatten a nested list using list comprehension\n",
    "\n",
    "def flatten_list(nested_list):\n",
    "    return [item for sublist in nested_list for item in sublist]\n",
    "\n",
    "# Example usage:\n",
    "nested_list = [[1, 2], [3, 4], [5, 6]]\n",
    "flattened = flatten_list(nested_list)\n",
    "print(flattened)\n"
   ]
  },
  {
   "cell_type": "code",
   "execution_count": 51,
   "id": "a7fbafda-73d8-4755-83c1-72fd2722c7c9",
   "metadata": {},
   "outputs": [
    {
     "name": "stdout",
     "output_type": "stream",
     "text": [
      "Even sum: 12\n",
      "Odd sum: 9\n"
     ]
    }
   ],
   "source": [
    "## 26. Compute the sum of even and odd numbers in a list separately using list comprehension\n",
    "\n",
    "def even_odd_sums(lst):\n",
    "    even_sum = sum([x for x in lst if x % 2 == 0])\n",
    "    odd_sum = sum([x for x in lst if x % 2 != 0])\n",
    "    return even_sum, odd_sum\n",
    "\n",
    "# Example usage:\n",
    "numbers = [1, 2, 3, 4, 5, 6]\n",
    "even_sum, odd_sum = even_odd_sums(numbers)\n",
    "print(\"Even sum:\", even_sum)\n",
    "print(\"Odd sum:\", odd_sum)\n"
   ]
  },
  {
   "cell_type": "code",
   "execution_count": 53,
   "id": "e0ad4357-1a46-425a-b8e5-a244083bb75e",
   "metadata": {},
   "outputs": [
    {
     "name": "stdout",
     "output_type": "stream",
     "text": [
      "[1, 9, 25, 49, 81]\n"
     ]
    }
   ],
   "source": [
    "## 27. Generate a list of squares of odd numbers between 1 and 10 using list comprehension\n",
    "def odd_squares():\n",
    "    return [x**2 for x in range(1, 11) if x % 2 != 0]\n",
    "\n",
    "# Example usage:\n",
    "odd_squares_list = odd_squares()\n",
    "print(odd_squares_list)\n"
   ]
  },
  {
   "cell_type": "code",
   "execution_count": 55,
   "id": "a7443930-1b56-49e8-973d-92620737a064",
   "metadata": {},
   "outputs": [
    {
     "name": "stdout",
     "output_type": "stream",
     "text": [
      "{'a': 1, 'b': 2, 'c': 3}\n"
     ]
    }
   ],
   "source": [
    "## 28. Combine two lists into a dictionary using list comprehension\n",
    "\n",
    "def combine_lists_to_dict(keys, values):\n",
    "    return {keys[i]: values[i] for i in range(len(keys))}\n",
    "\n",
    "# Example usage:\n",
    "keys = ['a', 'b', 'c']\n",
    "values = [1, 2, 3]\n",
    "result_dict = combine_lists_to_dict(keys, values)\n",
    "print(result_dict)\n"
   ]
  },
  {
   "cell_type": "code",
   "execution_count": 57,
   "id": "3632ed82-b3b9-42c4-87cb-8a41b5192cbf",
   "metadata": {},
   "outputs": [
    {
     "name": "stdout",
     "output_type": "stream",
     "text": [
      "['e', 'o', 'o']\n"
     ]
    }
   ],
   "source": [
    "## 29. Extract the vowels from a string and store them in a list using list comprehension\n",
    "\n",
    "def extract_vowels(string):\n",
    "    return [char for char in string if char.lower() in 'aeiou']\n",
    "\n",
    "# Example usage:\n",
    "text = \"Hello World!\"\n",
    "vowels = extract_vowels(text)\n",
    "print(vowels)\n"
   ]
  },
  {
   "cell_type": "code",
   "execution_count": 84,
   "id": "e280d608-bc24-47da-be27-9ad44ddcab82",
   "metadata": {},
   "outputs": [
    {
     "name": "stdout",
     "output_type": "stream",
     "text": [
      "['123', '456', '789', '12']\n"
     ]
    }
   ],
   "source": [
    "## 30. Remove all non-numeric characters from a list of strings using list comprehension\n",
    "\n",
    "def remove_non_numeric(strings):\n",
    "    return [''.join([char for char in s if char.isdigit()]) for s in strings]\n",
    "\n",
    "# Example usage:\n",
    "strings = [\"abc123\", \"456def\", \"78gh9\", \"12!@#\"]\n",
    "cleaned_strings = remove_non_numeric(strings)\n",
    "print(cleaned_strings)\n"
   ]
  },
  {
   "cell_type": "code",
   "execution_count": 86,
   "id": "7fe141f2-40ed-42ac-8644-cd1ab5f05d77",
   "metadata": {},
   "outputs": [
    {
     "name": "stdout",
     "output_type": "stream",
     "text": [
      "[2, 3, 5, 7, 11, 13, 17, 19, 23, 29, 31, 37, 41, 43, 47]\n"
     ]
    }
   ],
   "source": [
    "# Challenge Level:\n",
    "\n",
    "#  31. Write a program to generate a list of prime numbers using the Sieve of Eratosthenes algorithm and list comprehension.\n",
    "\n",
    "def sieve_of_eratosthenes(limit):\n",
    "    primes = [True] * (limit + 1)\n",
    "    primes[0], primes[1] = False, False\n",
    "    \n",
    "    for i in range(2, int(limit**0.5) + 1):\n",
    "        if primes[i]:\n",
    "            primes[i*i:limit+1:i] = [False] * len(range(i*i, limit+1, i))\n",
    "    \n",
    "    return [x for x in range(2, limit + 1) if primes[x]]\n",
    "\n",
    "# Example usage:\n",
    "limit = 50\n",
    "prime_numbers = sieve_of_eratosthenes(limit)\n",
    "print(prime_numbers)\n"
   ]
  },
  {
   "cell_type": "code",
   "execution_count": 88,
   "id": "eca19292-66a4-4e71-bcf0-04e3b3cfc6ac",
   "metadata": {},
   "outputs": [
    {
     "name": "stdout",
     "output_type": "stream",
     "text": [
      "[(3, 4, 5), (5, 12, 13), (6, 8, 10), (7, 24, 25), (8, 15, 17), (9, 12, 15), (10, 24, 26), (12, 16, 20), (15, 20, 25), (20, 21, 29)]\n"
     ]
    }
   ],
   "source": [
    "# 32. Create a program that generates a list of all Pythagorean triplets up to a specified limit using list comprehension.\n",
    "def pythagorean_triplets(limit):\n",
    "    return [(a, b, c) for a in range(1, limit) for b in range(a, limit) for c in range(b, limit) if a**2 + b**2 == c**2]\n",
    "\n",
    "# Example usage:\n",
    "limit = 30\n",
    "triplets = pythagorean_triplets(limit)\n",
    "print(triplets)\n"
   ]
  },
  {
   "cell_type": "code",
   "execution_count": 90,
   "id": "a1f2d52d-a455-4518-ba88-e8a6e65d7650",
   "metadata": {},
   "outputs": [
    {
     "name": "stdout",
     "output_type": "stream",
     "text": [
      "[(1, 'a'), (1, 'b'), (1, 'c'), (2, 'a'), (2, 'b'), (2, 'c'), (3, 'a'), (3, 'b'), (3, 'c')]\n"
     ]
    }
   ],
   "source": [
    "# 33. Develop a program that generates a list of all possible combinations of two lists using list comprehension.\n",
    "def list_combinations(list1, list2):\n",
    "    return [(x, y) for x in list1 for y in list2]\n",
    "\n",
    "# Example usage:\n",
    "list1 = [1, 2, 3]\n",
    "list2 = ['a', 'b', 'c']\n",
    "combinations = list_combinations(list1, list2)\n",
    "print(combinations)\n"
   ]
  },
  {
   "cell_type": "code",
   "execution_count": 92,
   "id": "9f8121c7-9a0c-41ab-bd93-a79770436cfe",
   "metadata": {},
   "outputs": [
    {
     "name": "stdout",
     "output_type": "stream",
     "text": [
      "Mean: 3.1666666666666665, Median: 3.5, Mode: 4\n"
     ]
    }
   ],
   "source": [
    "# 34. Write a program that calculates the mean, median, and mode of a list of numbers using list comprehension.\n",
    "from statistics import mean, median, mode\n",
    "\n",
    "def calculate_statistics(numbers):\n",
    "    return mean(numbers), median(numbers), mode(numbers)\n",
    "\n",
    "# Example usage:\n",
    "numbers = [1, 2, 3, 4, 4, 5]\n",
    "mean_val, median_val, mode_val = calculate_statistics(numbers)\n",
    "print(f\"Mean: {mean_val}, Median: {median_val}, Mode: {mode_val}\")\n"
   ]
  },
  {
   "cell_type": "code",
   "execution_count": 94,
   "id": "30f195c9-fabc-4b10-bf5b-cac831506e93",
   "metadata": {},
   "outputs": [
    {
     "name": "stdout",
     "output_type": "stream",
     "text": [
      "[1]\n",
      "[1, 1]\n",
      "[1, 2, 1]\n",
      "[1, 3, 3, 1]\n",
      "[1, 4, 6, 4, 1]\n"
     ]
    }
   ],
   "source": [
    "# 35. Create a program that generates Pascal's triangle up to a specified number of rows using list comprehension.\n",
    "def pascal_triangle(rows):\n",
    "    triangle = [[1]]\n",
    "    for i in range(1, rows):\n",
    "        row = [1]\n",
    "        row += [triangle[i-1][j] + triangle[i-1][j+1] for j in range(len(triangle[i-1])-1)]\n",
    "        row.append(1)\n",
    "        triangle.append(row)\n",
    "    return triangle\n",
    "\n",
    "# Example usage:\n",
    "rows = 5\n",
    "triangle = pascal_triangle(rows)\n",
    "for row in triangle:\n",
    "    print(row)\n"
   ]
  },
  {
   "cell_type": "code",
   "execution_count": 96,
   "id": "45b99b17-4270-466d-9c7a-e5c9133b5acb",
   "metadata": {},
   "outputs": [
    {
     "name": "stdout",
     "output_type": "stream",
     "text": [
      "[1, 2, 6, 6, 3]\n"
     ]
    }
   ],
   "source": [
    "# 36. Develop a program that calculates the sum of the digits of a factorial of numbers from 1 to 5 using list comprehension.\n",
    "import math\n",
    "\n",
    "def sum_of_digits_of_factorials():\n",
    "    return [sum(int(digit) for digit in str(math.factorial(i))) for i in range(1, 6)]\n",
    "\n",
    "# Example usage:\n",
    "digit_sums = sum_of_digits_of_factorials()\n",
    "print(digit_sums)\n",
    "\n"
   ]
  },
  {
   "cell_type": "code",
   "execution_count": 98,
   "id": "f53bae8f-88ae-4109-8668-1a8ce053b669",
   "metadata": {},
   "outputs": [
    {
     "name": "stdout",
     "output_type": "stream",
     "text": [
      "quick\n"
     ]
    }
   ],
   "source": [
    "# 37. Write a program that finds the longest word in a sentence using list comprehension.\n",
    "def longest_word(sentence):\n",
    "    words = sentence.split()\n",
    "    return max(words, key=len)\n",
    "\n",
    "# Example usage:\n",
    "sentence = \"The quick brown fox jumps over the lazy dog\"\n",
    "longest = longest_word(sentence)\n",
    "print(longest)\n",
    "\n"
   ]
  },
  {
   "cell_type": "code",
   "execution_count": 100,
   "id": "4607e825-a205-4c86-8b0f-d2f6d0ec9094",
   "metadata": {},
   "outputs": [
    {
     "name": "stdout",
     "output_type": "stream",
     "text": [
      "['beautiful', 'aeiou']\n"
     ]
    }
   ],
   "source": [
    "# 38. Create a program that filters a list of strings to include only those with more than three vowels using list comprehension.\n",
    "def filter_strings_by_vowels(strings):\n",
    "    return [s for s in strings if sum(1 for char in s if char in 'aeiouAEIOU') > 3]\n",
    "\n",
    "# Example usage:\n",
    "strings = [\"hello\", \"beautiful\", \"world\", \"aeiou\"]\n",
    "filtered_strings = filter_strings_by_vowels(strings)\n",
    "print(filtered_strings)\n"
   ]
  },
  {
   "cell_type": "code",
   "execution_count": 102,
   "id": "820b94a1-54cd-4073-8ec3-ce7c9db2542b",
   "metadata": {},
   "outputs": [
    {
     "name": "stdout",
     "output_type": "stream",
     "text": [
      "13501\n"
     ]
    }
   ],
   "source": [
    "# 39. Develop a program that calculates the sum of the digits of numbers from 1 to 1000 using list comprehension.\n",
    "def sum_of_digits_up_to_1000():\n",
    "    return sum(sum(int(digit) for digit in str(i)) for i in range(1, 1001))\n",
    "\n",
    "# Example usage:\n",
    "digit_sum = sum_of_digits_up_to_1000()\n",
    "print(digit_sum)\n"
   ]
  },
  {
   "cell_type": "code",
   "execution_count": 104,
   "id": "56832779-4fbf-4ba5-bcfb-2b10f842ac0e",
   "metadata": {},
   "outputs": [
    {
     "name": "stdout",
     "output_type": "stream",
     "text": [
      "[2, 3, 5, 7, 11]\n"
     ]
    }
   ],
   "source": [
    "# 40. Write a program that generates a list of prime palindromic numbers using list comprehension.\n",
    "\n",
    "def is_palindromic(n):\n",
    "    return str(n) == str(n)[::-1]\n",
    "\n",
    "def prime_palindromes(limit):\n",
    "    return [n for n in range(2, limit) if is_palindromic(n) and all(n % i != 0 for i in range(2, int(n**0.5) + 1))]\n",
    "\n",
    "# Example usage:\n",
    "limit = 100\n",
    "palindromic_primes = prime_palindromes(limit)\n",
    "print(palindromic_primes)\n",
    "\n"
   ]
  },
  {
   "cell_type": "code",
   "execution_count": null,
   "id": "67bcfa4b-ad51-48cf-8584-359f5d776960",
   "metadata": {},
   "outputs": [],
   "source": []
  },
  {
   "cell_type": "code",
   "execution_count": null,
   "id": "ea2c45d1-255b-4aef-92c6-ad64756ca7fb",
   "metadata": {},
   "outputs": [],
   "source": []
  },
  {
   "cell_type": "code",
   "execution_count": null,
   "id": "682426b7-371e-4ffd-8a0a-1c62c9154698",
   "metadata": {},
   "outputs": [],
   "source": []
  },
  {
   "cell_type": "code",
   "execution_count": null,
   "id": "9c31a5b4-28ac-4659-8784-84dc18958b8b",
   "metadata": {},
   "outputs": [],
   "source": []
  }
 ],
 "metadata": {
  "kernelspec": {
   "display_name": "Python 3 (ipykernel)",
   "language": "python",
   "name": "python3"
  },
  "language_info": {
   "codemirror_mode": {
    "name": "ipython",
    "version": 3
   },
   "file_extension": ".py",
   "mimetype": "text/x-python",
   "name": "python",
   "nbconvert_exporter": "python",
   "pygments_lexer": "ipython3",
   "version": "3.12.4"
  }
 },
 "nbformat": 4,
 "nbformat_minor": 5
}
