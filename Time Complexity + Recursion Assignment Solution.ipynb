{
 "cells": [
  {
   "cell_type": "code",
   "execution_count": 62,
   "id": "7b8d680d-2a39-4b94-8e84-7b2ac1468b25",
   "metadata": {},
   "outputs": [],
   "source": [
    "##  Time Complexity Analysis of Code Blocks"
   ]
  },
  {
   "cell_type": "code",
   "execution_count": 64,
   "id": "751fb674-707e-48df-8eae-14bce1e15e4f",
   "metadata": {},
   "outputs": [],
   "source": [
    "##  Problem 1: Quicksort Algorithm\n",
    "def quicksort(arr):\n",
    "    if len(arr) <= 1:\n",
    "        return arr\n",
    "    pivot = arr[len(arr) // 2]\n",
    "    left = [x for x in arr if x < pivot]\n",
    "    middle = [x for x in arr if x == pivot]\n",
    "    right = [x for x in arr if x > pivot]\n",
    "    return quicksort(left) + middle + quicksort(right)\n"
   ]
  },
  {
   "cell_type": "code",
   "execution_count": 66,
   "id": "c2f27d09-ac00-4880-a7fb-54638599d18b",
   "metadata": {},
   "outputs": [],
   "source": [
    "## Problem 2: Nested Loop Example\n",
    "\n",
    "def nested_loop_example(matrix):\n",
    "    rows, cols = len(matrix), len(matrix[0])\n",
    "    total = 0\n",
    "    for i in range(rows):\n",
    "        for j in range(cols):\n",
    "            total += matrix[i][j]\n",
    "    return total\n"
   ]
  },
  {
   "cell_type": "code",
   "execution_count": 68,
   "id": "2bae6ea5-efdc-4b5f-b8b5-96adb29a3778",
   "metadata": {},
   "outputs": [],
   "source": [
    "## Problem 3: Simple Sum of Elements\n",
    "\n",
    "def example_function(arr):\n",
    "    result = 0\n",
    "    for element in arr:\n",
    "        result += element\n",
    "    return result\n"
   ]
  },
  {
   "cell_type": "code",
   "execution_count": 70,
   "id": "491c4162-7f28-4c2f-b6ae-7352778e013f",
   "metadata": {},
   "outputs": [],
   "source": [
    "## Problem 4: Longest Increasing Subsequence (LIS)\n",
    "\n",
    "def longest_increasing_subsequence(nums):\n",
    "    n = len(nums)\n",
    "    lis = [1] * n\n",
    "    for i in range(1, n):\n",
    "        for j in range(0, i):\n",
    "            if nums[i] > nums[j] and lis[i] < lis[j] + 1:\n",
    "                lis[i] = lis[j] + 1\n",
    "    return max(lis)\n"
   ]
  },
  {
   "cell_type": "markdown",
   "id": "e65db2d8-3ed7-42e1-aaeb-19351ab7208a",
   "metadata": {},
   "source": [
    "## Practice Questions - Creating Recursive Functions"
   ]
  },
  {
   "cell_type": "code",
   "execution_count": 73,
   "id": "52cbf9d8-b56d-43ac-87d9-b8f030faf1c0",
   "metadata": {},
   "outputs": [],
   "source": [
    "## Problem 5: Mysterious Function"
   ]
  },
  {
   "cell_type": "code",
   "execution_count": 75,
   "id": "e5cebc5f-814b-4e3b-a2b8-8c0861a70c57",
   "metadata": {},
   "outputs": [],
   "source": [
    "def mysterious_function(arr):\n",
    "    n = len(arr)\n",
    "    result = 0\n",
    "    for i in range(n):\n",
    "        for j in range(i, n):\n",
    "            result += arr[i] * arr[j]\n",
    "    return result\n"
   ]
  },
  {
   "cell_type": "code",
   "execution_count": 77,
   "id": "71b2d42a-db85-4084-b06d-82d6841edf25",
   "metadata": {},
   "outputs": [],
   "source": [
    "# Problem 6: Sum of Digits (Recursive)\n",
    "\n",
    "def sum_of_digits(n):\n",
    "    if n == 0:\n",
    "        return 0\n",
    "    return n % 10 + sum_of_digits(n // 10)\n"
   ]
  },
  {
   "cell_type": "code",
   "execution_count": 79,
   "id": "d6dc3bf3-a7ae-4ab8-9f83-b999b9693836",
   "metadata": {},
   "outputs": [],
   "source": [
    "# Problem 7: Fibonacci Series (Recursive)\n",
    "\n",
    "def fibonacci_series(n):\n",
    "    if n <= 0:\n",
    "        return []\n",
    "    elif n == 1:\n",
    "        return [0]\n",
    "    elif n == 2:\n",
    "        return [0, 1]\n",
    "    else:\n",
    "        fib = fibonacci_series(n - 1)\n",
    "        fib.append(fib[-1] + fib[-2])\n",
    "        return fib\n"
   ]
  },
  {
   "cell_type": "code",
   "execution_count": 81,
   "id": "3022e51d-d404-459e-b4a8-d45dc3f6f4ec",
   "metadata": {},
   "outputs": [],
   "source": [
    "# Problem 8: Subset Sum (Recursive)\n",
    "\n",
    "def subset_sum(nums, target):\n",
    "    if target == 0:\n",
    "        return True\n",
    "    if not nums:\n",
    "        return False\n",
    "    if nums[0] > target:\n",
    "        return subset_sum(nums[1:], target)\n",
    "    return subset_sum(nums[1:], target) or subset_sum(nums[1:], target - nums[0])\n"
   ]
  },
  {
   "cell_type": "code",
   "execution_count": 83,
   "id": "75c6abf1-3f41-450f-a9bb-7cf533420d8f",
   "metadata": {},
   "outputs": [],
   "source": [
    "#  Problem 9: Word Break (Recursive)\n",
    "\n",
    "def word_break(s, word_dict):\n",
    "    if not s:\n",
    "        return True\n",
    "    for word in word_dict:\n",
    "        if s.startswith(word):\n",
    "            if word_break(s[len(word):], word_dict):\n",
    "                return True\n",
    "    return False\n"
   ]
  },
  {
   "cell_type": "code",
   "execution_count": 85,
   "id": "edde04a1-2852-42fe-b0c8-d093e5a8e67b",
   "metadata": {},
   "outputs": [],
   "source": [
    "## Problem 10: N-Queens (Recursive)\n",
    "\n",
    "def n_queens(n):\n",
    "    def solve(board, row):\n",
    "        if row == n:\n",
    "            return [board]\n",
    "        solutions = []\n",
    "        for col in range(n):\n",
    "            if is_safe(board, row, col):\n",
    "                board[row] = col\n",
    "                solutions.extend(solve(board, row + 1))\n",
    "                board[row] = -1\n",
    "        return solutions\n",
    "    \n",
    "    def is_safe(board, row, col):\n",
    "        for r in range(row):\n",
    "            if board[r] == col or abs(board[r] - col) == row - r:\n",
    "                return False\n",
    "        return True\n",
    "    \n",
    "    board = [-1] * n\n",
    "    return solve(board, 0)\n"
   ]
  },
  {
   "cell_type": "markdown",
   "id": "e071288b-5406-42a3-9c94-51dabea66f4f",
   "metadata": {},
   "source": [
    "## Summary of Time Complexities:\n",
    "## Quicksort: O(n log n) (average case)\n",
    "## Nested Loop Example: O(n * m), where n and m are the number of rows and columns, respectively\n",
    "## Simple Sum of Elements: O(n)\n",
    "## Longest Increasing Subsequence: O(n²)\n",
    "## Mysterious Function: O(n²)\n",
    "## Sum of Digits (Recursive): O(log n)\n",
    "## Fibonacci Series (Recursive): O(2^n)\n",
    "## Subset Sum (Recursive): O(2^n)\n",
    "## Word Break (Recursive): O(2^n)\n",
    "## N-Queens (Recursive): O(n!)"
   ]
  }
 ],
 "metadata": {
  "kernelspec": {
   "display_name": "Python 3 (ipykernel)",
   "language": "python",
   "name": "python3"
  },
  "language_info": {
   "codemirror_mode": {
    "name": "ipython",
    "version": 3
   },
   "file_extension": ".py",
   "mimetype": "text/x-python",
   "name": "python",
   "nbconvert_exporter": "python",
   "pygments_lexer": "ipython3",
   "version": "3.12.4"
  }
 },
 "nbformat": 4,
 "nbformat_minor": 5
}
