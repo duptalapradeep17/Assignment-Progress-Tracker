{
 "cells": [
  {
   "cell_type": "code",
   "execution_count": 4,
   "id": "b326eeec-692d-4e57-82e7-69419783a371",
   "metadata": {},
   "outputs": [
    {
     "data": {
      "text/plain": [
       "' Approach: Use a hash map (or dictionary) to count the occurrences of each element. Then, find the element with the maximum count.\\nTime Complexity: O(n), where n is the number of elements in the array.\\nSpace Complexity: O(n), due to the hash map.\\nAlgorithm:\\n\\nInitialize an empty hash map.\\nTraverse the array and for each element, increment its count in the hash map.\\nTraverse the hash map to find the element with the maximum count.'"
      ]
     },
     "execution_count": 4,
     "metadata": {},
     "output_type": "execute_result"
    }
   ],
   "source": [
    "## Problem 1: Given an array of n numbers, give an algorithm which gives the element appearing maximum number of times.\n",
    "\n",
    "## Solution:\n",
    "\n",
    "''' Approach: Use a hash map (or dictionary) to count the occurrences of each element. Then, find the element with the maximum count.\n",
    "Time Complexity: O(n), where n is the number of elements in the array.\n",
    "Space Complexity: O(n), due to the hash map.\n",
    "Algorithm:\n",
    "\n",
    "Initialize an empty hash map.\n",
    "Traverse the array and for each element, increment its count in the hash map.\n",
    "Traverse the hash map to find the element with the maximum count.'''"
   ]
  },
  {
   "cell_type": "code",
   "execution_count": 6,
   "id": "6f950b91-56f1-4962-891c-95b450cc4d75",
   "metadata": {},
   "outputs": [
    {
     "ename": "SyntaxError",
     "evalue": "incomplete input (3238055445.py, line 1)",
     "output_type": "error",
     "traceback": [
      "\u001b[1;36m  Cell \u001b[1;32mIn[6], line 1\u001b[1;36m\u001b[0m\n\u001b[1;33m    '''\u001b[0m\n\u001b[1;37m    ^\u001b[0m\n\u001b[1;31mSyntaxError\u001b[0m\u001b[1;31m:\u001b[0m incomplete input\n"
     ]
    }
   ],
   "source": [
    "'''\n",
    "Problem 3: Given an array of n positive numbers. All numbers occur an even number of times except one which occurs an odd number of times. Find that number in O(n) time and O(1) space.\n",
    "\n",
    "Solution:\n",
    "\n",
    "Approach: Use XOR operation. XORing the same number twice results in 0, so the only number that will not cancel out is the one that occurs an odd number of times.\n",
    "Algorithm:\n",
    "\n",
    "Initialize result = 0.\n",
    "Traverse the array and XOR each element with result.\n",
    "At the end, result will contain the number that occurs an odd number of times.\n",
    "Time Complexity: O(n) Space Complexity: O(1)'''\n"
   ]
  },
  {
   "cell_type": "code",
   "execution_count": 8,
   "id": "fd7d2b33-3441-4b2d-afb5-a1f4b0411a9c",
   "metadata": {},
   "outputs": [
    {
     "ename": "SyntaxError",
     "evalue": "invalid syntax (719946504.py, line 1)",
     "output_type": "error",
     "traceback": [
      "\u001b[1;36m  Cell \u001b[1;32mIn[8], line 1\u001b[1;36m\u001b[0m\n\u001b[1;33m    Problem 4: Given an array of n elements, find two elements such that their sum equals a given number K.\u001b[0m\n\u001b[1;37m            ^\u001b[0m\n\u001b[1;31mSyntaxError\u001b[0m\u001b[1;31m:\u001b[0m invalid syntax\n"
     ]
    }
   ],
   "source": [
    "\n",
    "Problem 4: Given an array of n elements, find two elements such that their sum equals a given number K.\n",
    "\n",
    "Solution:\n",
    "\n",
    "Approach: Use a hash set to store the elements as you traverse the array. For each element, check if K - element is in the set.\n",
    "Algorithm:\n",
    "\n",
    "Initialize an empty set.\n",
    "For each element in the array:\n",
    "If K - element is in the set, return element and K - element.\n",
    "Otherwise, add element to the set.\n",
    "Time Complexity: O(n) Space Complexity: O(n)\n"
   ]
  },
  {
   "cell_type": "code",
   "execution_count": 10,
   "id": "9996a152-e434-4957-a03d-f603fcf8849f",
   "metadata": {},
   "outputs": [
    {
     "ename": "SyntaxError",
     "evalue": "invalid syntax (3494962772.py, line 1)",
     "output_type": "error",
     "traceback": [
      "\u001b[1;36m  Cell \u001b[1;32mIn[10], line 1\u001b[1;36m\u001b[0m\n\u001b[1;33m    Problem 5: Given an array of both positive and negative numbers, find two numbers such that their sum is closest to 0.\u001b[0m\n\u001b[1;37m            ^\u001b[0m\n\u001b[1;31mSyntaxError\u001b[0m\u001b[1;31m:\u001b[0m invalid syntax\n"
     ]
    }
   ],
   "source": [
    "\n",
    "Problem 5: Given an array of both positive and negative numbers, find two numbers such that their sum is closest to 0.\n",
    "\n",
    "Solution:\n",
    "\n",
    "Approach: Sort the array, then use the two-pointer technique to find the pair with the smallest sum.\n",
    "Algorithm:\n",
    "\n",
    "Sort the array.\n",
    "Initialize two pointers: one at the start (left) and one at the end (right).\n",
    "Calculate the sum of the elements at the two pointers.\n",
    "If the sum is 0, return the pair.\n",
    "If the sum is negative, increment the left pointer to increase the sum.\n",
    "If the sum is positive, decrement the right pointer to decrease the sum.\n",
    "Keep track of the closest sum.\n",
    "Time Complexity: O(n log n) (due to sorting) Space Complexity: O(1)\n"
   ]
  },
  {
   "cell_type": "code",
   "execution_count": 12,
   "id": "1c9932de-42ff-47e8-9cd8-6c057276f2e0",
   "metadata": {},
   "outputs": [
    {
     "ename": "SyntaxError",
     "evalue": "invalid syntax (3023085202.py, line 1)",
     "output_type": "error",
     "traceback": [
      "\u001b[1;36m  Cell \u001b[1;32mIn[12], line 1\u001b[1;36m\u001b[0m\n\u001b[1;33m    Problem 6: Given an array of n elements, find three elements such that their sum equals a given number.\u001b[0m\n\u001b[1;37m            ^\u001b[0m\n\u001b[1;31mSyntaxError\u001b[0m\u001b[1;31m:\u001b[0m invalid syntax\n"
     ]
    }
   ],
   "source": [
    "\n",
    "Problem 6: Given an array of n elements, find three elements such that their sum equals a given number.\n",
    "\n",
    "Solution:\n",
    "\n",
    "Approach: Sort the array, then use a two-pointer approach to find pairs of elements that sum to the target number minus the current element.\n",
    "Algorithm:\n",
    "\n",
    "Sort the array.\n",
    "For each element, use two pointers to find two other elements that sum to target - element.\n",
    "Time Complexity: O(n^2) (due to sorting and the two-pointer approach) Space Complexity: O(1)\n"
   ]
  },
  {
   "cell_type": "code",
   "execution_count": 14,
   "id": "36e3dc1a-99ef-42f5-941f-476a0616dec2",
   "metadata": {},
   "outputs": [
    {
     "ename": "SyntaxError",
     "evalue": "invalid character '²' (U+00B2) (847496798.py, line 1)",
     "output_type": "error",
     "traceback": [
      "\u001b[1;36m  Cell \u001b[1;32mIn[14], line 1\u001b[1;36m\u001b[0m\n\u001b[1;33m    Problem 7: Given an array of n elements, find three elements i, j, k such that i² + j² = k².\u001b[0m\n\u001b[1;37m                                                                                    ^\u001b[0m\n\u001b[1;31mSyntaxError\u001b[0m\u001b[1;31m:\u001b[0m invalid character '²' (U+00B2)\n"
     ]
    }
   ],
   "source": [
    "\n",
    "Problem 7: Given an array of n elements, find three elements i, j, k such that i² + j² = k².\n",
    "\n",
    "Solution:\n",
    "\n",
    "Approach: Treat this as a problem of finding Pythagorean triplets. Sort the array, and for each element, check if there are two other elements that satisfy the equation i² + j² = k².\n",
    "Algorithm:\n",
    "\n",
    "Sort the array.\n",
    "For each element k, treat it as the hypotenuse and search for i and j such that i² + j² = k² using a two-pointer approach.\n",
    "Time Complexity: O(n^2) (due to sorting and the two-pointer approach) Space Complexity: O(1)\n"
   ]
  },
  {
   "cell_type": "code",
   "execution_count": 16,
   "id": "01f3c45f-99b6-4fb9-b7e7-9a2ae188991f",
   "metadata": {},
   "outputs": [
    {
     "ename": "SyntaxError",
     "evalue": "invalid syntax (343015132.py, line 1)",
     "output_type": "error",
     "traceback": [
      "\u001b[1;36m  Cell \u001b[1;32mIn[16], line 1\u001b[1;36m\u001b[0m\n\u001b[1;33m    Problem 8: An element is a majority if it appears more than n/2 times. Give an algorithm that takes an array of n elements and identifies a majority (if it exists).\u001b[0m\n\u001b[1;37m            ^\u001b[0m\n\u001b[1;31mSyntaxError\u001b[0m\u001b[1;31m:\u001b[0m invalid syntax\n"
     ]
    }
   ],
   "source": [
    "'''\n",
    "Problem 8: An element is a majority if it appears more than n/2 times. Give an algorithm that takes an array of n elements and identifies a majority (if it exists)\n",
    "\n",
    "Solution:\n",
    "\n",
    "Approach: Use Boyer-Moore Voting Algorithm, which works in O(n) time and O(1) space.\n",
    "Algorithm:\n",
    "\n",
    "Initialize a candidate element and a count variable.\n",
    "Traverse the array:\n",
    "If the count is 0, set the candidate to the current element.\n",
    "If the current element equals the candidate, increment the count.\n",
    "Otherwise, decrement the count.\n",
    "Verify if the candidate is actually the majority by counting its occurrences.\n",
    "Time Complexity: O(n) Space Complexity: O(1)'''"
   ]
  },
  {
   "cell_type": "code",
   "execution_count": null,
   "id": "7a84daac-359e-4bf5-ba65-026da7f9581c",
   "metadata": {},
   "outputs": [],
   "source": [
    "Problem 9: Given an n × n matrix, and in each row, all 1’s are followed by 0’s. Find the row with the maximum number of 0’s.\n",
    "\n",
    "Solution:\n",
    "\n",
    "Approach: Start from the top-right corner of the matrix and move left when you encounter a 1, or move down when you encounter a 0. This will give you the row with the most 0’s.\n",
    "Algorithm:\n",
    "\n",
    "Initialize row = 0 and col = n - 1.\n",
    "While row < n and col >= 0:\n",
    "If the element is 1, move left (col--).\n",
    "If the element is 0, move down (row++).\n",
    "Track the row with the maximum 0’s encountered.\n",
    "Time Complexity: O(n) Space Complexity: O(1)\n"
   ]
  },
  {
   "cell_type": "code",
   "execution_count": null,
   "id": "cfdaaf7e-b0fb-4666-aa50-5304354c3899",
   "metadata": {},
   "outputs": [],
   "source": [
    "\n",
    "Problem 10: Sort an array of 0’s, 1’s, and 2’s.\n",
    "\n",
    "Solution:\n",
    "\n",
    "Approach: Use the Dutch National Flag algorithm, which sorts the array in one pass.\n",
    "Algorithm:\n",
    "\n",
    "Initialize three pointers: low, mid, and high.\n",
    "Traverse the array with the mid pointer:\n",
    "If A[mid] is 0, swap it with A[low] and increment both low and mid.\n",
    "If A[mid] is 1, just increment mid.\n",
    "If A[mid] is 2, swap it with A[high] and decrement high.\n",
    "Time Complexity: O(n) Space Complexity: O(1)"
   ]
  }
 ],
 "metadata": {
  "kernelspec": {
   "display_name": "Python 3 (ipykernel)",
   "language": "python",
   "name": "python3"
  },
  "language_info": {
   "codemirror_mode": {
    "name": "ipython",
    "version": 3
   },
   "file_extension": ".py",
   "mimetype": "text/x-python",
   "name": "python",
   "nbconvert_exporter": "python",
   "pygments_lexer": "ipython3",
   "version": "3.12.4"
  }
 },
 "nbformat": 4,
 "nbformat_minor": 5
}
